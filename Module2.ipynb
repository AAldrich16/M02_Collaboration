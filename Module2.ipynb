{
 "cells": [
  {
   "cell_type": "code",
   "execution_count": 2,
   "metadata": {},
   "outputs": [
    {
     "name": "stdout",
     "output_type": "stream",
     "text": [
      "just right\n"
     ]
    }
   ],
   "source": [
    "secret = int(input(\"input number: \"))\n",
    "guess = int(input(\"input guess: \"))\n",
    "\n",
    "if guess > secret:\n",
    "    print(\"too high\")\n",
    "elif guess < secret: \n",
    "    print(\"too low\")\n",
    "else:\n",
    "    print(\"just right\")\n"
   ]
  },
  {
   "cell_type": "code",
   "execution_count": 5,
   "metadata": {},
   "outputs": [
    {
     "name": "stdout",
     "output_type": "stream",
     "text": [
      "cherry is small and is NOT green\n"
     ]
    }
   ],
   "source": [
    "choice = input(\"Please input your fruit: \")\n",
    "\n",
    "small = False\n",
    "green = False\n",
    "\n",
    "if choice == \"cherry\":\n",
    "    small = True\n",
    "    green = False\n",
    "elif choice == \"pea\":\n",
    "    small = True\n",
    "    green = True\n",
    "elif choice == \"watermelon\":\n",
    "    small = False\n",
    "    green = True\n",
    "elif choice == \"pumpkin\":\n",
    "    small = False\n",
    "    green = False\n",
    "\n",
    "isSmall = 'is' if small else 'is NOT'\n",
    "isGreen = 'is' if green else 'is NOT'\n",
    "\n",
    "print(f'{choice} {isSmall} small and {isGreen} green')\n"
   ]
  },
  {
   "cell_type": "code",
   "execution_count": 7,
   "metadata": {},
   "outputs": [
    {
     "name": "stdout",
     "output_type": "stream",
     "text": [
      "[3, 2, 1, 0]\n"
     ]
    }
   ],
   "source": [
    "list = []\n",
    "for x in range(3, -1, -1):\n",
    "   print(x)"
   ]
  },
  {
   "cell_type": "code",
   "execution_count": 2,
   "metadata": {},
   "outputs": [
    {
     "name": "stdout",
     "output_type": "stream",
     "text": [
      "too low\n",
      "too low\n",
      "too low\n",
      "too low\n",
      "too low\n",
      "too low\n",
      "found it! \n"
     ]
    }
   ],
   "source": [
    "guess_me = 7\n",
    "number = 1\n",
    "\n",
    "while number != guess_me:\n",
    "    if number < guess_me:\n",
    "        print(\"too low\")\n",
    "    elif number > guess_me:\n",
    "        print(\"oops.\")\n",
    "    number += 1\n",
    "\n",
    "print(\"found it! \")"
   ]
  },
  {
   "cell_type": "code",
   "execution_count": 4,
   "metadata": {},
   "outputs": [
    {
     "name": "stdout",
     "output_type": "stream",
     "text": [
      "too low\n",
      "too low\n",
      "too low\n",
      "too low\n",
      "too low\n",
      "found it!\n"
     ]
    }
   ],
   "source": [
    "guess_me = 5\n",
    "number = 1\n",
    "\n",
    "for number in range(10):\n",
    "    if number < guess_me:\n",
    "        print('too low')\n",
    "    elif number > guess_me:\n",
    "        print('oops')\n",
    "        break\n",
    "    if number == guess_me:\n",
    "        print('found it!')\n",
    "        break"
   ]
  }
 ],
 "metadata": {
  "kernelspec": {
   "display_name": "Python 3",
   "language": "python",
   "name": "python3"
  },
  "language_info": {
   "codemirror_mode": {
    "name": "ipython",
    "version": 3
   },
   "file_extension": ".py",
   "mimetype": "text/x-python",
   "name": "python",
   "nbconvert_exporter": "python",
   "pygments_lexer": "ipython3",
   "version": "3.11.2"
  },
  "orig_nbformat": 4
 },
 "nbformat": 4,
 "nbformat_minor": 2
}
